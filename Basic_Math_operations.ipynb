{
 "cells": [
  {
   "cell_type": "code",
   "execution_count": 1,
   "metadata": {},
   "outputs": [
    {
     "name": "stdout",
     "output_type": "stream",
     "text": [
      "Addition         : 2 + 5 = 7\n",
      "Subtraction      : 5 - 2 = 3\n",
      "Subtraction      : 2 - 5 = -3\n",
      "Multiplication   : 2 * 5 = 10\n",
      "Divison          : 2 / 5 = 0.4\n",
      "Modulo           : 5 % 2 = 1\n",
      "Power            : 5 ** 2 = 25\n",
      "Roots(as powers) : 25 ** 0.5 = 5.0\n"
     ]
    }
   ],
   "source": [
    "variable_1 = 2\n",
    "variable_2 = 5\n",
    "\n",
    "print(f\"Addition         : {variable_1} + {variable_2} = { (variable_1 + variable_2) }\")\n",
    "print(f\"Subtraction      : {variable_2} - {variable_1} = { (variable_2 - variable_1) }\")\n",
    "print(f\"Subtraction      : {variable_1} - {variable_2} = { (variable_1 - variable_2) }\")\n",
    "print(f\"Multiplication   : {variable_1} * {variable_2} = { (variable_1 * variable_2) }\")\n",
    "print(f\"Divison          : {variable_1} / {variable_2} = { (variable_1 / variable_2) }\")\n",
    "print(f\"Modulo           : {variable_2} % {variable_1} = { (variable_2 % variable_1) }\")\n",
    "print(f\"Power            : {variable_2} ** {variable_1} = { (variable_2 ** variable_1)}\")\n",
    "print(f\"Roots(as powers) : {25} ** {0.5} = { (25 ** 0.5) }\")"
   ]
  },
  {
   "cell_type": "code",
   "execution_count": null,
   "metadata": {},
   "outputs": [],
   "source": []
  }
 ],
 "metadata": {
  "kernelspec": {
   "display_name": "Python 3",
   "language": "python",
   "name": "python3"
  },
  "language_info": {
   "codemirror_mode": {
    "name": "ipython",
    "version": 3
   },
   "file_extension": ".py",
   "mimetype": "text/x-python",
   "name": "python",
   "nbconvert_exporter": "python",
   "pygments_lexer": "ipython3",
   "version": "3.8.5"
  }
 },
 "nbformat": 4,
 "nbformat_minor": 4
}
